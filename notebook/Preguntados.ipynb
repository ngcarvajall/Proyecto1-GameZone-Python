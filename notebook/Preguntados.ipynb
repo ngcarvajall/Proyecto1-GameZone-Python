{
 "cells": [
  {
   "cell_type": "code",
   "execution_count": 22,
   "metadata": {},
   "outputs": [],
   "source": [
    "import random\n",
    "\n",
    "categorias = [\"Geografía\", \"Historia\", \"Entretenimiento\", \"Ciencia\"]\n",
    "\n",
    "def preguntados():\n",
    "    preguntas = {\n",
    "        \"preguntas_geografia\": [\n",
    "            {\"Pregunta\": \"¿Cuál es la capital de Cantabria?\", \"Respuestas\": {\"Santander\": True, \"Lugo\": False, \"Antequera\": False, \"Oviedo\": False}},\n",
    "            {\"Pregunta\": \"¿Cuál es la capital de Navarra?\", \"Respuestas\": {\"Alcalá de Henares\": False, \"Logroño\": False, \"Pamplona\": True, \"Zaragoza\": False}}\n",
    "        ],\n",
    "        \"preguntas_historia\": [\n",
    "            {\"Pregunta\": \"¿En qué año se descubrió América?\", \"Respuestas\": {\"1234\": False, \"1492\": True, \"1482\": False, \"1111\": False}},\n",
    "            {\"Pregunta\": \"¿Quién fue el inventor del teléfono?\", \"Respuestas\": {\"Einstein\": False, \"Marie Curie\": False, \"Alexander Graham Bell\": True, \"Nicola Tesla\": False}}\n",
    "        ],\n",
    "        \"preguntas_entretenimiento\": [\n",
    "            {\"Pregunta\": \"¿Qué famoso programador salió en Master Chef?\", \"Respuestas\": {\"James Gosling\": False, \"Jean-Charles\": True, \"Guido Van Rossum\": False, \"Dennis Ritchie\": False}},\n",
    "            {\"Pregunta\": \"¿Qué serie protagoniza el actor Hugh Laurie?\", \"Respuestas\": {\"Rick y Morty\": False, \"Suits\": False, \"La Que Se Avecina\": False, \"House\": True}}\n",
    "        ]\n",
    "    }\n",
    "\n",
    "    contador = 0\n",
    "\n",
    "    while contador < 10:\n",
    "        eleccion = int(input(f\"Elige una categoría sobre la que te quieras examinar: 1. Geografía 2. Historia 3. Entretenimiento 4. Ciencia\\n\"))\n",
    "\n",
    "        if eleccion == 1:\n",
    "            pregunta_aleatoria = random.choice(preguntas[\"preguntas_geografia\"])\n",
    "        elif eleccion == 2:\n",
    "            pregunta_aleatoria = random.choice(preguntas[\"preguntas_historia\"])\n",
    "        elif eleccion == 3:\n",
    "            pregunta_aleatoria = random.choice(preguntas[\"preguntas_entretenimiento\"])\n",
    "        else:\n",
    "            print(\"Categoría no disponible aún.\")\n",
    "            \n",
    "\n",
    "        # Imprimir pregunta y opciones\n",
    "        print(pregunta_aleatoria[\"Pregunta\"])\n",
    "        for opcion in pregunta_aleatoria[\"Respuestas\"]:\n",
    "            print(opcion)\n",
    "\n",
    "        respuesta = input('Elige una respuesta: ')\n",
    "\n",
    "        # Comprobar si la respuesta es correcta\n",
    "        if pregunta_aleatoria[\"Respuestas\"].get(respuesta) == True:\n",
    "            print(\"¡Correcto!\")\n",
    "            contador += 1\n",
    "        else:\n",
    "            print(\"Incorrecto\")\n",
    "            break\n",
    "\n",
    "    if contador == 10:\n",
    "        print(\"¡Felicidades! Has ganado el juego.\")\n",
    "\n"
   ]
  },
  {
   "cell_type": "code",
   "execution_count": 23,
   "metadata": {},
   "outputs": [
    {
     "name": "stdout",
     "output_type": "stream",
     "text": [
      "¿Cuál es la capital de Navarra?\n",
      "Alcalá de Henares\n",
      "Logroño\n",
      "Pamplona\n",
      "Zaragoza\n",
      "Incorrecto\n"
     ]
    }
   ],
   "source": [
    "preguntados()"
   ]
  },
  {
   "cell_type": "code",
   "execution_count": 30,
   "metadata": {},
   "outputs": [],
   "source": [
    "import random\n",
    "categorias = [\"Geografía\", \"Historia\", \"Entretenimiento\", \"Ciencia\"]\n",
    "\n",
    "def preguntados_1():\n",
    "    preguntas = {\n",
    "        \"preguntas_geografia\": [\n",
    "            {\"Pregunta\": \"¿Cuál es la capital de República Dominicana?\", \"Respuestas\": {\"La Romana\": False, \"Santo Domingo\": True, \"Samaná\": False, \"Punta Cana\": False}},\n",
    "            {\"Pregunta\": \"¿Cuál es la capital de España?\", \"Respuestas\": {\"Barcelona\": False, \"Valencia\": False, \"Madrid\": True, \"Zaragoza\": False}}\n",
    "        ],\n",
    "        \"preguntas_historia\": [\n",
    "            {\"Pregunta\": \"¿En qué año se descubrió América?\", \"Respuestas\": {\"1493\": False, \"1492\": True, \"1776\": False, \"1505\": False}},\n",
    "            {\"Pregunta\": \"¿En qué año se independizó la República Dominicana?\", \"Respuestas\": {\"1822\": False, \"1821\": False, \"1844\": True, \"\": False}}\n",
    "        ],\n",
    "        \"preguntas_entretenimiento\": [\n",
    "            {\"Pregunta\": '¿Cuál es el nombre del actor en protagonizar la película de \"Joker\" ?', \"Respuestas\": {\"James Gosling\": False, \"Jean-Charles\": True, \"Guido Van Rossum\": False, \"Dennis Ritchie\": False}},\n",
    "            {\"Pregunta\": \"¿Qué serie protagoniza el actor Hugh Laurie?\", \"Respuestas\": {\"Rick y Morty\": False, \"Suits\": False, \"La Que Se Avecina\": False, \"House\": True}}\n",
    "        ]\n",
    "    }\n",
    "\n",
    "    contador = 0\n",
    "\n",
    "    while contador < 10:\n",
    "        eleccion = int(input(f\"Elige una categoria para probar tus conocimientos: 1. Geografia 2. Historia 3. Entretenimiento 4. Ciencia\"))\n",
    "\n",
    "        if eleccion == 1:\n",
    "            pregunta_aleatoria = random.choice(preguntas['preguntas_geografia'])            \n",
    "        elif eleccion == 2:\n",
    "            pregunta_aleatoria = random.choice(preguntas['preguntas_historia'])\n",
    "        elif eleccion == 3:\n",
    "            pregunta_aleatoria = random.choice(preguntas['preguntas_entretenimiento'])\n",
    "        elif eleccion == 4:\n",
    "            pregunta_aleatoria = random.choice(preguntas['preguntas_ciencias'])\n",
    "        else:\n",
    "            print('No me has dado una categoría acertada')\n",
    "            continue\n",
    "\n",
    "        pregunta_aleatoria = random.choice(preguntas['preguntas_geografia'])\n",
    "        print(pregunta_aleatoria)['Preguntas']\n",
    "        print(pregunta_aleatoria)[\"Respuestas\"]"
   ]
  },
  {
   "cell_type": "code",
   "execution_count": 31,
   "metadata": {},
   "outputs": [
    {
     "name": "stdout",
     "output_type": "stream",
     "text": [
      "{'Pregunta': '¿Cuál es la capital de España?', 'Respuestas': {'Barcelona': False, 'Valencia': False, 'Madrid': True, 'Zaragoza': False}}\n"
     ]
    },
    {
     "ename": "TypeError",
     "evalue": "'NoneType' object is not subscriptable",
     "output_type": "error",
     "traceback": [
      "\u001b[1;31m---------------------------------------------------------------------------\u001b[0m",
      "\u001b[1;31mTypeError\u001b[0m                                 Traceback (most recent call last)",
      "Cell \u001b[1;32mIn[31], line 1\u001b[0m\n\u001b[1;32m----> 1\u001b[0m \u001b[43mpreguntados_1\u001b[49m\u001b[43m(\u001b[49m\u001b[43m)\u001b[49m\n",
      "Cell \u001b[1;32mIn[30], line 37\u001b[0m, in \u001b[0;36mpreguntados_1\u001b[1;34m()\u001b[0m\n\u001b[0;32m     34\u001b[0m     \u001b[38;5;28mprint\u001b[39m(\u001b[38;5;124m'\u001b[39m\u001b[38;5;124mNo me has dado una categoría acertada\u001b[39m\u001b[38;5;124m'\u001b[39m)\n\u001b[0;32m     35\u001b[0m     \u001b[38;5;28;01mcontinue\u001b[39;00m\n\u001b[1;32m---> 37\u001b[0m \u001b[38;5;28;43mprint\u001b[39;49m\u001b[43m(\u001b[49m\u001b[43mpregunta_aleatoria\u001b[49m\u001b[43m)\u001b[49m\u001b[43m[\u001b[49m\u001b[38;5;124;43m'\u001b[39;49m\u001b[38;5;124;43mPreguntas\u001b[39;49m\u001b[38;5;124;43m'\u001b[39;49m\u001b[43m]\u001b[49m\n\u001b[0;32m     38\u001b[0m \u001b[38;5;28mprint\u001b[39m(pregunta_aleatoria)[\u001b[38;5;124m\"\u001b[39m\u001b[38;5;124mRespuestas\u001b[39m\u001b[38;5;124m\"\u001b[39m]\n",
      "\u001b[1;31mTypeError\u001b[0m: 'NoneType' object is not subscriptable"
     ]
    }
   ],
   "source": [
    "preguntados_1()"
   ]
  },
  {
   "cell_type": "code",
   "execution_count": 37,
   "metadata": {},
   "outputs": [],
   "source": [
    "import random\n",
    "\n",
    "categorias = [\"Geografía\", \"Historia\", \"Entretenimiento\", \"Deporte\"]\n",
    "\n",
    "def preguntados_2():\n",
    "    preguntas = {\n",
    "    \"preguntas_geografia\": [\n",
    "        {\"Pregunta\": \"¿Cuál es la capital de República Dominicana?\", \"Respuestas\": {\"La Romana\": False, \"Santo Domingo\": True, \"Samaná\": False, \"Punta Cana\": False}},\n",
    "        {\"Pregunta\": \"¿Cuál es la capital de España?\", \"Respuestas\": {\"Barcelona\": False, \"Valencia\": False, \"Madrid\": True, \"Zaragoza\": False}},\n",
    "        {\"Pregunta\": \"¿Qué océano baña las costas de África occidental?\", \"Respuestas\": {\"Océano Atlántico\": True, \"Océano Índico\": False, \"Océano Pacífico\": False, \"Mar Mediterráneo\": False}},\n",
    "        {\"Pregunta\": \"¿Cuál es el río más largo del mundo?\", \"Respuestas\": {\"Nilo\": True, \"Amazonas\": False, \"Yangtsé\": False, \"Misisipi\": False}},\n",
    "        {\"Pregunta\": \"¿Qué país tiene más islas en el mundo?\", \"Respuestas\": {\"Suecia\": True, \"Canadá\": False, \"Indonesia\": False, \"Noruega\": False}}\n",
    "    ],\n",
    "    \"preguntas_historia\": [\n",
    "        {\"Pregunta\": \"¿En qué año se descubrió América?\", \"Respuestas\": {\"1493\": False, \"1492\": True, \"1776\": False, \"1505\": False}},\n",
    "        {\"Pregunta\": \"¿En qué año se independizó la República Dominicana?\", \"Respuestas\": {\"1822\": False, \"1821\": False, \"1844\": True, \"1865\": False}},\n",
    "        {\"Pregunta\": \"¿Quién fue el primer presidente de Estados Unidos?\", \"Respuestas\": {\"George Washington\": True, \"Thomas Jefferson\": False, \"Abraham Lincoln\": False, \"John Adams\": False}},\n",
    "        {\"Pregunta\": \"¿Qué civilización construyó las pirámides de Egipto?\", \"Respuestas\": {\"Egipcios\": True, \"Mayas\": False, \"Aztecas\": False, \"Griegos\": False}},\n",
    "        {\"Pregunta\": \"¿Qué evento marcó el inicio de la Segunda Guerra Mundial?\", \"Respuestas\": {\"La invasión de Polonia\": True, \"La firma del Tratado de Versalles\": False, \"La caída de Berlín\": False, \"El ataque a Pearl Harbor\": False}}\n",
    "    ],\n",
    "    \"preguntas_entretenimiento\": [\n",
    "        {\"Pregunta\": '¿Cuál es el nombre del actor que protagonizó la película \"Joker\"?', \"Respuestas\": {\"Ryan Gosling\": False, \"Heath Ledger\": False, \"Joaquin Phoenix\": True, \"Hugh Jackman\": False}},\n",
    "        {\"Pregunta\": \"¿Quién canta la canción 'Thriller'?\", \"Respuestas\": {\"Michael Jackson\": True, \"Prince\": False, \"Madonna\": False, \"Elton John\": False}},\n",
    "        {\"Pregunta\": \"¿En qué año se estrenó la película 'Titanic'?\", \"Respuestas\": {\"1997\": True, \"1998\": False, \"1995\": False, \"2000\": False}},\n",
    "        {\"Pregunta\": \"¿Qué película ganó el Oscar a Mejor Película en 2020?\", \"Respuestas\": {\"Parasite\": True, \"1917\": False, \"Joker\": False, \"Once Upon a Time in Hollywood\": False}},\n",
    "        {\"Pregunta\": \"¿Quién es el creador de la serie 'Game of Thrones'?\", \"Respuestas\": {\"George R.R. Martin\": True, \"J.K. Rowling\": False, \"Joss Whedon\": False, \"Stephen King\": False}}\n",
    "    ],\n",
    "    \"preguntas_futbol\": [\n",
    "        {\"Pregunta\": \"¿En qué país se celebró el Mundial de fútbol de 2014?\", \"Respuestas\": {\"Alemania\": False, \"Brasil\": True, \"Sudáfrica\": False, \"España\": False}},\n",
    "        {\"Pregunta\": \"¿Qué equipo ha ganado el mayor número de UEFA Champions League?\", \"Respuestas\": {\"Real Madrid\": True, \"FC Barcelona\": False, \"AC Milan\": False, \"Juventus\": False}},\n",
    "        {\"Pregunta\": \"¿Quién es el máximo goleador de la historia de los Mundiales?\", \"Respuestas\": {\"Pele\": False, \"Miroslav Klose\": True, \"Ronaldo\": False, \"Diego Maradona\": False}},\n",
    "        {\"Pregunta\": \"¿Qué país ganó la Eurocopa 2016?\", \"Respuestas\": {\"Portugal\": True, \"Francia\": False, \"Alemania\": False, \"España\": False}},\n",
    "        {\"Pregunta\": \"¿En qué año se fundó la FIFA?\", \"Respuestas\": {\"1904\": True, \"1920\": False, \"1930\": False, \"1950\": False}}\n",
    "    ]\n",
    "}\n",
    "\n",
    "\n",
    "    contador = 0\n",
    "\n",
    "    while contador < 10:\n",
    "        eleccion = int(input(f\"Elige una categoría para probar tus conocimientos: 1. Geografía 2. Historia 3. Entretenimiento 4. Deporte\\n\"))\n",
    "\n",
    "        if eleccion == 1:\n",
    "            pregunta_aleatoria = random.choice(preguntas[\"preguntas_geografia\"])\n",
    "        elif eleccion == 2:\n",
    "            pregunta_aleatoria = random.choice(preguntas[\"preguntas_historia\"])\n",
    "        elif eleccion == 3:\n",
    "            pregunta_aleatoria = random.choice(preguntas[\"preguntas_entretenimiento\"])\n",
    "        elif eleccion == 4:\n",
    "            pregunta_aleatoria = random.choice(preguntas['preguntas_futbol'])\n",
    "        else:\n",
    "            print(\"Categoría no disponible aún.\")\n",
    "            continue\n",
    "\n",
    "        print(pregunta_aleatoria[\"Pregunta\"])\n",
    "        for opcion in pregunta_aleatoria[\"Respuestas\"]:\n",
    "            print(opcion)\n",
    "\n",
    "        respuesta = input('Elige una respuesta:')\n",
    "\n",
    "        if pregunta_aleatoria[\"Respuestas\"].get(respuesta) == True:\n",
    "            print('¡Ganaste un punto!')\n",
    "            contador += 1\n",
    "            print(f'Llevas {contador} respuestas correctas')\n",
    "        else:\n",
    "            print('Te has equivocado')\n",
    "            break\n",
    "\n",
    "    if contador == 10:\n",
    "        print('¡Eres el puto amo!')\n"
   ]
  },
  {
   "cell_type": "code",
   "execution_count": 53,
   "metadata": {},
   "outputs": [
    {
     "name": "stdout",
     "output_type": "stream",
     "text": [
      "¿Cuál es la capital de República Dominicana?\n",
      "La Romana\n",
      "Santo Domingo\n",
      "Samaná\n",
      "Punta Cana\n",
      "¡Has acertado la pregunta!\n",
      "Llevas 1 respuestas correctas\n",
      "¿Quién fue el primer presidente de Estados Unidos?\n",
      "George Washington\n",
      "Thomas Jefferson\n",
      "Abraham Lincoln\n",
      "John Adams\n",
      "Te has equivocado.\n"
     ]
    }
   ],
   "source": [
    "preguntados_2()"
   ]
  },
  {
   "cell_type": "code",
   "execution_count": 48,
   "metadata": {},
   "outputs": [],
   "source": [
    "import random\n",
    "\n",
    "categorias = [\"Geografía\", \"Historia\", \"Entretenimiento\", \"Deporte\"]\n",
    "\n",
    "def preguntados_3():\n",
    "    preguntas = {\n",
    "    \"preguntas_geografia\": [\n",
    "        {\"Pregunta\": \"¿Cuál es la capital de República Dominicana?\", \"Respuestas\": {\"La Romana\": False, \"Santo Domingo\": True, \"Samaná\": False, \"Punta Cana\": False}},\n",
    "        {\"Pregunta\": \"¿Cuál es la capital de España?\", \"Respuestas\": {\"Barcelona\": False, \"Valencia\": False, \"Madrid\": True, \"Zaragoza\": False}},\n",
    "        {\"Pregunta\": \"¿Qué océano baña las costas de África occidental?\", \"Respuestas\": {\"Océano Atlántico\": True, \"Océano Índico\": False, \"Océano Pacífico\": False, \"Mar Mediterráneo\": False}},\n",
    "        {\"Pregunta\": \"¿Cuál es el río más largo del mundo?\", \"Respuestas\": {\"Nilo\": True, \"Amazonas\": False, \"Yangtsé\": False, \"Misisipi\": False}},\n",
    "        {\"Pregunta\": \"¿Qué país tiene más islas en el mundo?\", \"Respuestas\": {\"Suecia\": True, \"Canadá\": False, \"Indonesia\": False, \"Noruega\": False}}\n",
    "    ],\n",
    "    \"preguntas_historia\": [\n",
    "        {\"Pregunta\": \"¿En qué año se descubrió América?\", \"Respuestas\": {\"1493\": False, \"1492\": True, \"1776\": False, \"1505\": False}},\n",
    "        {\"Pregunta\": \"¿En qué año se independizó la República Dominicana?\", \"Respuestas\": {\"1822\": False, \"1821\": False, \"1844\": True, \"1865\": False}},\n",
    "        {\"Pregunta\": \"¿Quién fue el primer presidente de Estados Unidos?\", \"Respuestas\": {\"George Washington\": True, \"Thomas Jefferson\": False, \"Abraham Lincoln\": False, \"John Adams\": False}},\n",
    "        {\"Pregunta\": \"¿Qué civilización construyó las pirámides de Egipto?\", \"Respuestas\": {\"Egipcios\": True, \"Mayas\": False, \"Aztecas\": False, \"Griegos\": False}},\n",
    "        {\"Pregunta\": \"¿Qué evento marcó el inicio de la Segunda Guerra Mundial?\", \"Respuestas\": {\"La invasión de Polonia\": True, \"La firma del Tratado de Versalles\": False, \"La caída de Berlín\": False, \"El ataque a Pearl Harbor\": False}}\n",
    "    ],\n",
    "    \"preguntas_entretenimiento\": [\n",
    "        {\"Pregunta\": '¿Cuál es el nombre del actor que protagonizó la película \"Joker\"?', \"Respuestas\": {\"Ryan Gosling\": False, \"Heath Ledger\": False, \"Joaquin Phoenix\": True, \"Hugh Jackman\": False}},\n",
    "        {\"Pregunta\": \"¿Quién canta la canción 'Thriller'?\", \"Respuestas\": {\"Michael Jackson\": True, \"Prince\": False, \"Madonna\": False, \"Elton John\": False}},\n",
    "        {\"Pregunta\": \"¿En qué año se estrenó la película 'Titanic'?\", \"Respuestas\": {\"1997\": True, \"1998\": False, \"1995\": False, \"2000\": False}},\n",
    "        {\"Pregunta\": \"¿Qué película ganó el Oscar a Mejor Película en 2020?\", \"Respuestas\": {\"Parasite\": True, \"1917\": False, \"Joker\": False, \"Once Upon a Time in Hollywood\": False}},\n",
    "        {\"Pregunta\": \"¿Quién es el creador de la serie 'Game of Thrones'?\", \"Respuestas\": {\"George R.R. Martin\": True, \"J.K. Rowling\": False, \"Joss Whedon\": False, \"Stephen King\": False}}\n",
    "    ],\n",
    "    \"preguntas_futbol\": [\n",
    "        {\"Pregunta\": \"¿En qué país se celebró el Mundial de fútbol de 2014?\", \"Respuestas\": {\"Alemania\": False, \"Brasil\": True, \"Sudáfrica\": False, \"España\": False}},\n",
    "        {\"Pregunta\": \"¿Qué equipo ha ganado el mayor número de UEFA Champions League?\", \"Respuestas\": {\"Real Madrid\": True, \"FC Barcelona\": False, \"AC Milan\": False, \"Juventus\": False}},\n",
    "        {\"Pregunta\": \"¿Quién es el máximo goleador de la historia de los Mundiales?\", \"Respuestas\": {\"Pele\": False, \"Miroslav Klose\": True, \"Ronaldo\": False, \"Diego Maradona\": False}},\n",
    "        {\"Pregunta\": \"¿Qué país ganó la Eurocopa 2016?\", \"Respuestas\": {\"Portugal\": True, \"Francia\": False, \"Alemania\": False, \"España\": False}},\n",
    "        {\"Pregunta\": \"¿En qué año se fundó la FIFA?\", \"Respuestas\": {\"1904\": True, \"1920\": False, \"1930\": False, \"1950\": False}}\n",
    "    ]\n",
    "}\n",
    "\n",
    "\n",
    "    contador = 0\n",
    "\n",
    "    while contador < 10:\n",
    "        eleccion = int(input(f\"Elige una categoría para probar tus conocimientos: 1. Geografía 2. Historia 3. Entretenimiento 4. Deporte\\n\"))\n",
    "\n",
    "        if eleccion == 1:\n",
    "            pregunta_aleatoria = random.choice(preguntas[\"preguntas_geografia\"])\n",
    "        elif eleccion == 2:\n",
    "            pregunta_aleatoria = random.choice(preguntas[\"preguntas_historia\"])\n",
    "        elif eleccion == 3:\n",
    "            pregunta_aleatoria = random.choice(preguntas[\"preguntas_entretenimiento\"])\n",
    "        elif eleccion == 4:\n",
    "            pregunta_aleatoria = random.choice(preguntas['preguntas_futbol'])\n",
    "        else:\n",
    "            print(\"Categoría no disponible aún.\")\n",
    "            continue\n",
    "\n",
    "        print(pregunta_aleatoria[\"Pregunta\"])\n",
    "        for k in pregunta_aleatoria[\"Respuestas\"]:\n",
    "            print(k)\n",
    "\n",
    "        respuesta = input('Elige una respuesta:')\n",
    "\n",
    "        if pregunta_aleatoria[\"Respuestas\"].get(respuesta) == True:\n",
    "            print('¡Ganaste un punto!')\n",
    "            contador += 1\n",
    "            print(f'Llevas {contador} respuestas correctas')\n",
    "        else:\n",
    "            print('Te has equivocado, has respondido', respuesta)\n",
    "            break\n",
    "\n",
    "    if contador == 10:\n",
    "        print('¡Eres el puto amo!')"
   ]
  },
  {
   "cell_type": "code",
   "execution_count": 52,
   "metadata": {},
   "outputs": [
    {
     "name": "stdout",
     "output_type": "stream",
     "text": [
      "¿Quién canta la canción 'Thriller'?\n",
      "Michael Jackson\n",
      "Prince\n",
      "Madonna\n",
      "Elton John\n",
      "Te has equivocado, has respondido ss\n"
     ]
    }
   ],
   "source": [
    "preguntados_3()"
   ]
  },
  {
   "cell_type": "code",
   "execution_count": 38,
   "metadata": {},
   "outputs": [],
   "source": [
    "preguntas__1 = {\n",
    "    \"preguntas_geografia\": [\n",
    "        {\"Pregunta\": \"¿Cuál es la capital de República Dominicana?\", \"Respuestas\": {\"La Romana\": False, \"Santo Domingo\": True, \"Samaná\": False, \"Punta Cana\": False}},\n",
    "        {\"Pregunta\": \"¿Cuál es la capital de España?\", \"Respuestas\": {\"Barcelona\": False, \"Valencia\": False, \"Madrid\": True, \"Zaragoza\": False}},\n",
    "        {\"Pregunta\": \"¿Qué océano baña las costas de África occidental?\", \"Respuestas\": {\"Océano Atlántico\": True, \"Océano Índico\": False, \"Océano Pacífico\": False, \"Mar Mediterráneo\": False}},\n",
    "        {\"Pregunta\": \"¿Cuál es el río más largo del mundo?\", \"Respuestas\": {\"Nilo\": True, \"Amazonas\": False, \"Yangtsé\": False, \"Misisipi\": False}},\n",
    "        {\"Pregunta\": \"¿Qué país tiene más islas en el mundo?\", \"Respuestas\": {\"Suecia\": True, \"Canadá\": False, \"Indonesia\": False, \"Noruega\": False}}\n",
    "    ]\n",
    "}\n",
    "\n",
    "pregunta_aleatoria_1 = random.choice(preguntas__1[\"preguntas_geografia\"])\n"
   ]
  },
  {
   "cell_type": "code",
   "execution_count": 43,
   "metadata": {},
   "outputs": [
    {
     "name": "stdout",
     "output_type": "stream",
     "text": [
      "{'Barcelona': False, 'Valencia': False, 'Madrid': True, 'Zaragoza': False}\n"
     ]
    }
   ],
   "source": [
    "print(pregunta_aleatoria_1['Respuestas'])"
   ]
  },
  {
   "cell_type": "code",
   "execution_count": null,
   "metadata": {},
   "outputs": [],
   "source": []
  }
 ],
 "metadata": {
  "kernelspec": {
   "display_name": "Python 3",
   "language": "python",
   "name": "python3"
  },
  "language_info": {
   "codemirror_mode": {
    "name": "ipython",
    "version": 3
   },
   "file_extension": ".py",
   "mimetype": "text/x-python",
   "name": "python",
   "nbconvert_exporter": "python",
   "pygments_lexer": "ipython3",
   "version": "3.11.9"
  }
 },
 "nbformat": 4,
 "nbformat_minor": 2
}
